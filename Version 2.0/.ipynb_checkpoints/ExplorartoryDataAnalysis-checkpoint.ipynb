{
 "cells": [
  {
   "cell_type": "markdown",
   "metadata": {},
   "source": [
    "# Explorartory Data Analysis"
   ]
  },
  {
   "cell_type": "code",
   "execution_count": 1,
   "metadata": {},
   "outputs": [],
   "source": [
    "import matplotlib.pyplot as plt\n",
    "import numpy as np\n",
    "import pandas as pd\n",
    "from collections import Counter\n",
    "import math\n",
    "import re\n",
    "import os\n",
    "import seaborn as sns"
   ]
  },
  {
   "cell_type": "code",
   "execution_count": 2,
   "metadata": {},
   "outputs": [],
   "source": [
    "# we have give a json file which consists of all information about\n",
    "# the products\n",
    "# loading the data using pandas' read_json file.\n",
    "data = pd.read_json('tops_fashion.json')"
   ]
  },
  {
   "cell_type": "code",
   "execution_count": 3,
   "metadata": {},
   "outputs": [
    {
     "name": "stdout",
     "output_type": "stream",
     "text": [
      "Number of data points :  183138 Number of features/variables: 19\n"
     ]
    }
   ],
   "source": [
    "print ('Number of data points : ', data.shape[0],\n",
    "'Number of features/variables:', data.shape[1])"
   ]
  },
  {
   "cell_type": "code",
   "execution_count": 4,
   "metadata": {},
   "outputs": [
    {
     "data": {
      "text/html": [
       "<div>\n",
       "<style scoped>\n",
       "    .dataframe tbody tr th:only-of-type {\n",
       "        vertical-align: middle;\n",
       "    }\n",
       "\n",
       "    .dataframe tbody tr th {\n",
       "        vertical-align: top;\n",
       "    }\n",
       "\n",
       "    .dataframe thead th {\n",
       "        text-align: right;\n",
       "    }\n",
       "</style>\n",
       "<table border=\"1\" class=\"dataframe\">\n",
       "  <thead>\n",
       "    <tr style=\"text-align: right;\">\n",
       "      <th></th>\n",
       "      <th>sku</th>\n",
       "      <th>asin</th>\n",
       "      <th>product_type_name</th>\n",
       "      <th>formatted_price</th>\n",
       "      <th>author</th>\n",
       "      <th>color</th>\n",
       "      <th>brand</th>\n",
       "      <th>publisher</th>\n",
       "      <th>availability</th>\n",
       "      <th>reviews</th>\n",
       "      <th>large_image_url</th>\n",
       "      <th>availability_type</th>\n",
       "      <th>small_image_url</th>\n",
       "      <th>editorial_review</th>\n",
       "      <th>title</th>\n",
       "      <th>model</th>\n",
       "      <th>medium_image_url</th>\n",
       "      <th>manufacturer</th>\n",
       "      <th>editorial_reivew</th>\n",
       "    </tr>\n",
       "  </thead>\n",
       "  <tbody>\n",
       "    <tr>\n",
       "      <th>0</th>\n",
       "      <td>None</td>\n",
       "      <td>B016I2TS4W</td>\n",
       "      <td>SHIRT</td>\n",
       "      <td>None</td>\n",
       "      <td>None</td>\n",
       "      <td>None</td>\n",
       "      <td>FNC7C</td>\n",
       "      <td>None</td>\n",
       "      <td>None</td>\n",
       "      <td>[False, https://www.amazon.com/reviews/iframe?...</td>\n",
       "      <td>https://images-na.ssl-images-amazon.com/images...</td>\n",
       "      <td>None</td>\n",
       "      <td>https://images-na.ssl-images-amazon.com/images...</td>\n",
       "      <td>Minions Como Superheroes Ironman Women's O Nec...</td>\n",
       "      <td>Minions Como Superheroes Ironman Long Sleeve R...</td>\n",
       "      <td>None</td>\n",
       "      <td>https://images-na.ssl-images-amazon.com/images...</td>\n",
       "      <td>None</td>\n",
       "      <td>NaN</td>\n",
       "    </tr>\n",
       "    <tr>\n",
       "      <th>1</th>\n",
       "      <td>None</td>\n",
       "      <td>B01N49AI08</td>\n",
       "      <td>SHIRT</td>\n",
       "      <td>None</td>\n",
       "      <td>None</td>\n",
       "      <td>None</td>\n",
       "      <td>FIG Clothing</td>\n",
       "      <td>None</td>\n",
       "      <td>None</td>\n",
       "      <td>[False, https://www.amazon.com/reviews/iframe?...</td>\n",
       "      <td>https://images-na.ssl-images-amazon.com/images...</td>\n",
       "      <td>None</td>\n",
       "      <td>https://images-na.ssl-images-amazon.com/images...</td>\n",
       "      <td>Sizing runs on the small side. FIG® recommends...</td>\n",
       "      <td>FIG Clothing Womens Izo Tunic</td>\n",
       "      <td>None</td>\n",
       "      <td>https://images-na.ssl-images-amazon.com/images...</td>\n",
       "      <td>None</td>\n",
       "      <td>NaN</td>\n",
       "    </tr>\n",
       "    <tr>\n",
       "      <th>2</th>\n",
       "      <td>None</td>\n",
       "      <td>B01JDPCOHO</td>\n",
       "      <td>SHIRT</td>\n",
       "      <td>None</td>\n",
       "      <td>None</td>\n",
       "      <td>None</td>\n",
       "      <td>FIG Clothing</td>\n",
       "      <td>None</td>\n",
       "      <td>None</td>\n",
       "      <td>[False, https://www.amazon.com/reviews/iframe?...</td>\n",
       "      <td>https://images-na.ssl-images-amazon.com/images...</td>\n",
       "      <td>None</td>\n",
       "      <td>https://images-na.ssl-images-amazon.com/images...</td>\n",
       "      <td>Sizing runs on the small side. FIG® recommends...</td>\n",
       "      <td>FIG Clothing Womens Won Top</td>\n",
       "      <td>None</td>\n",
       "      <td>https://images-na.ssl-images-amazon.com/images...</td>\n",
       "      <td>None</td>\n",
       "      <td>NaN</td>\n",
       "    </tr>\n",
       "    <tr>\n",
       "      <th>3</th>\n",
       "      <td>None</td>\n",
       "      <td>B01N19U5H5</td>\n",
       "      <td>SHIRT</td>\n",
       "      <td>None</td>\n",
       "      <td>None</td>\n",
       "      <td>None</td>\n",
       "      <td>Focal18</td>\n",
       "      <td>None</td>\n",
       "      <td>None</td>\n",
       "      <td>[True, https://www.amazon.com/reviews/iframe?a...</td>\n",
       "      <td>https://images-na.ssl-images-amazon.com/images...</td>\n",
       "      <td>None</td>\n",
       "      <td>https://images-na.ssl-images-amazon.com/images...</td>\n",
       "      <td>100% Brand New &amp; Fashion&lt;br&gt; Quantity: 1 Piece...</td>\n",
       "      <td>Focal18 Sailor Collar Bubble Sleeve Blouse Shi...</td>\n",
       "      <td>None</td>\n",
       "      <td>https://images-na.ssl-images-amazon.com/images...</td>\n",
       "      <td>None</td>\n",
       "      <td>NaN</td>\n",
       "    </tr>\n",
       "    <tr>\n",
       "      <th>4</th>\n",
       "      <td>None</td>\n",
       "      <td>B004GSI2OS</td>\n",
       "      <td>SHIRT</td>\n",
       "      <td>$26.26</td>\n",
       "      <td>None</td>\n",
       "      <td>Onyx Black/ Stone</td>\n",
       "      <td>FeatherLite</td>\n",
       "      <td>None</td>\n",
       "      <td>Usually ships in 6-10 business days</td>\n",
       "      <td>[False, https://www.amazon.com/reviews/iframe?...</td>\n",
       "      <td>https://images-na.ssl-images-amazon.com/images...</td>\n",
       "      <td>now</td>\n",
       "      <td>https://images-na.ssl-images-amazon.com/images...</td>\n",
       "      <td></td>\n",
       "      <td>Featherlite Ladies' Long Sleeve Stain Resistan...</td>\n",
       "      <td>None</td>\n",
       "      <td>https://images-na.ssl-images-amazon.com/images...</td>\n",
       "      <td>None</td>\n",
       "      <td>NaN</td>\n",
       "    </tr>\n",
       "  </tbody>\n",
       "</table>\n",
       "</div>"
      ],
      "text/plain": [
       "    sku        asin product_type_name formatted_price author  \\\n",
       "0  None  B016I2TS4W             SHIRT            None   None   \n",
       "1  None  B01N49AI08             SHIRT            None   None   \n",
       "2  None  B01JDPCOHO             SHIRT            None   None   \n",
       "3  None  B01N19U5H5             SHIRT            None   None   \n",
       "4  None  B004GSI2OS             SHIRT          $26.26   None   \n",
       "\n",
       "               color         brand publisher  \\\n",
       "0               None         FNC7C      None   \n",
       "1               None  FIG Clothing      None   \n",
       "2               None  FIG Clothing      None   \n",
       "3               None       Focal18      None   \n",
       "4  Onyx Black/ Stone   FeatherLite      None   \n",
       "\n",
       "                          availability  \\\n",
       "0                                 None   \n",
       "1                                 None   \n",
       "2                                 None   \n",
       "3                                 None   \n",
       "4  Usually ships in 6-10 business days   \n",
       "\n",
       "                                             reviews  \\\n",
       "0  [False, https://www.amazon.com/reviews/iframe?...   \n",
       "1  [False, https://www.amazon.com/reviews/iframe?...   \n",
       "2  [False, https://www.amazon.com/reviews/iframe?...   \n",
       "3  [True, https://www.amazon.com/reviews/iframe?a...   \n",
       "4  [False, https://www.amazon.com/reviews/iframe?...   \n",
       "\n",
       "                                     large_image_url availability_type  \\\n",
       "0  https://images-na.ssl-images-amazon.com/images...              None   \n",
       "1  https://images-na.ssl-images-amazon.com/images...              None   \n",
       "2  https://images-na.ssl-images-amazon.com/images...              None   \n",
       "3  https://images-na.ssl-images-amazon.com/images...              None   \n",
       "4  https://images-na.ssl-images-amazon.com/images...               now   \n",
       "\n",
       "                                     small_image_url  \\\n",
       "0  https://images-na.ssl-images-amazon.com/images...   \n",
       "1  https://images-na.ssl-images-amazon.com/images...   \n",
       "2  https://images-na.ssl-images-amazon.com/images...   \n",
       "3  https://images-na.ssl-images-amazon.com/images...   \n",
       "4  https://images-na.ssl-images-amazon.com/images...   \n",
       "\n",
       "                                    editorial_review  \\\n",
       "0  Minions Como Superheroes Ironman Women's O Nec...   \n",
       "1  Sizing runs on the small side. FIG® recommends...   \n",
       "2  Sizing runs on the small side. FIG® recommends...   \n",
       "3  100% Brand New & Fashion<br> Quantity: 1 Piece...   \n",
       "4                                                      \n",
       "\n",
       "                                               title model  \\\n",
       "0  Minions Como Superheroes Ironman Long Sleeve R...  None   \n",
       "1                      FIG Clothing Womens Izo Tunic  None   \n",
       "2                        FIG Clothing Womens Won Top  None   \n",
       "3  Focal18 Sailor Collar Bubble Sleeve Blouse Shi...  None   \n",
       "4  Featherlite Ladies' Long Sleeve Stain Resistan...  None   \n",
       "\n",
       "                                    medium_image_url manufacturer  \\\n",
       "0  https://images-na.ssl-images-amazon.com/images...         None   \n",
       "1  https://images-na.ssl-images-amazon.com/images...         None   \n",
       "2  https://images-na.ssl-images-amazon.com/images...         None   \n",
       "3  https://images-na.ssl-images-amazon.com/images...         None   \n",
       "4  https://images-na.ssl-images-amazon.com/images...         None   \n",
       "\n",
       "  editorial_reivew  \n",
       "0              NaN  \n",
       "1              NaN  \n",
       "2              NaN  \n",
       "3              NaN  \n",
       "4              NaN  "
      ]
     },
     "execution_count": 4,
     "metadata": {},
     "output_type": "execute_result"
    }
   ],
   "source": [
    "data.head(5)"
   ]
  },
  {
   "cell_type": "code",
   "execution_count": 5,
   "metadata": {},
   "outputs": [
    {
     "data": {
      "text/plain": [
       "Index(['sku', 'asin', 'product_type_name', 'formatted_price', 'author',\n",
       "       'color', 'brand', 'publisher', 'availability', 'reviews',\n",
       "       'large_image_url', 'availability_type', 'small_image_url',\n",
       "       'editorial_review', 'title', 'model', 'medium_image_url',\n",
       "       'manufacturer', 'editorial_reivew'],\n",
       "      dtype='object')"
      ]
     },
     "execution_count": 5,
     "metadata": {},
     "output_type": "execute_result"
    }
   ],
   "source": [
    "data.columns"
   ]
  },
  {
   "cell_type": "markdown",
   "metadata": {},
   "source": [
    "Of these 19 features, we will be using only 7 features in the project. \n",
    "1. asin ( Amazon standard identification number) \n",
    "2. brand ( brand to which the product belongs to ) \n",
    "3. color (Color information of apparel, it can contain many colors as a value ex: red and black stripes ) \n",
    "4. product_type_name (type of the apperal, ex: SHIRT/TSHIRT ) \n",
    "5. medium_image_url ( url of the image ) \n",
    "6. title (title of the product.) \n",
    "7. formatted_price (price of the product)"
   ]
  },
  {
   "cell_type": "code",
   "execution_count": 6,
   "metadata": {},
   "outputs": [],
   "source": [
    "data = data[['asin','brand','color','product_type_name','medium_image_url','title','formatted_price']]"
   ]
  },
  {
   "cell_type": "code",
   "execution_count": 7,
   "metadata": {},
   "outputs": [
    {
     "name": "stdout",
     "output_type": "stream",
     "text": [
      "Number of data points :  183138 Number of features: 7\n"
     ]
    },
    {
     "data": {
      "text/html": [
       "<div>\n",
       "<style scoped>\n",
       "    .dataframe tbody tr th:only-of-type {\n",
       "        vertical-align: middle;\n",
       "    }\n",
       "\n",
       "    .dataframe tbody tr th {\n",
       "        vertical-align: top;\n",
       "    }\n",
       "\n",
       "    .dataframe thead th {\n",
       "        text-align: right;\n",
       "    }\n",
       "</style>\n",
       "<table border=\"1\" class=\"dataframe\">\n",
       "  <thead>\n",
       "    <tr style=\"text-align: right;\">\n",
       "      <th></th>\n",
       "      <th>asin</th>\n",
       "      <th>brand</th>\n",
       "      <th>color</th>\n",
       "      <th>product_type_name</th>\n",
       "      <th>medium_image_url</th>\n",
       "      <th>title</th>\n",
       "      <th>formatted_price</th>\n",
       "    </tr>\n",
       "  </thead>\n",
       "  <tbody>\n",
       "    <tr>\n",
       "      <th>0</th>\n",
       "      <td>B016I2TS4W</td>\n",
       "      <td>FNC7C</td>\n",
       "      <td>None</td>\n",
       "      <td>SHIRT</td>\n",
       "      <td>https://images-na.ssl-images-amazon.com/images...</td>\n",
       "      <td>Minions Como Superheroes Ironman Long Sleeve R...</td>\n",
       "      <td>None</td>\n",
       "    </tr>\n",
       "    <tr>\n",
       "      <th>1</th>\n",
       "      <td>B01N49AI08</td>\n",
       "      <td>FIG Clothing</td>\n",
       "      <td>None</td>\n",
       "      <td>SHIRT</td>\n",
       "      <td>https://images-na.ssl-images-amazon.com/images...</td>\n",
       "      <td>FIG Clothing Womens Izo Tunic</td>\n",
       "      <td>None</td>\n",
       "    </tr>\n",
       "    <tr>\n",
       "      <th>2</th>\n",
       "      <td>B01JDPCOHO</td>\n",
       "      <td>FIG Clothing</td>\n",
       "      <td>None</td>\n",
       "      <td>SHIRT</td>\n",
       "      <td>https://images-na.ssl-images-amazon.com/images...</td>\n",
       "      <td>FIG Clothing Womens Won Top</td>\n",
       "      <td>None</td>\n",
       "    </tr>\n",
       "    <tr>\n",
       "      <th>3</th>\n",
       "      <td>B01N19U5H5</td>\n",
       "      <td>Focal18</td>\n",
       "      <td>None</td>\n",
       "      <td>SHIRT</td>\n",
       "      <td>https://images-na.ssl-images-amazon.com/images...</td>\n",
       "      <td>Focal18 Sailor Collar Bubble Sleeve Blouse Shi...</td>\n",
       "      <td>None</td>\n",
       "    </tr>\n",
       "    <tr>\n",
       "      <th>4</th>\n",
       "      <td>B004GSI2OS</td>\n",
       "      <td>FeatherLite</td>\n",
       "      <td>Onyx Black/ Stone</td>\n",
       "      <td>SHIRT</td>\n",
       "      <td>https://images-na.ssl-images-amazon.com/images...</td>\n",
       "      <td>Featherlite Ladies' Long Sleeve Stain Resistan...</td>\n",
       "      <td>$26.26</td>\n",
       "    </tr>\n",
       "  </tbody>\n",
       "</table>\n",
       "</div>"
      ],
      "text/plain": [
       "         asin         brand              color product_type_name  \\\n",
       "0  B016I2TS4W         FNC7C               None             SHIRT   \n",
       "1  B01N49AI08  FIG Clothing               None             SHIRT   \n",
       "2  B01JDPCOHO  FIG Clothing               None             SHIRT   \n",
       "3  B01N19U5H5       Focal18               None             SHIRT   \n",
       "4  B004GSI2OS   FeatherLite  Onyx Black/ Stone             SHIRT   \n",
       "\n",
       "                                    medium_image_url  \\\n",
       "0  https://images-na.ssl-images-amazon.com/images...   \n",
       "1  https://images-na.ssl-images-amazon.com/images...   \n",
       "2  https://images-na.ssl-images-amazon.com/images...   \n",
       "3  https://images-na.ssl-images-amazon.com/images...   \n",
       "4  https://images-na.ssl-images-amazon.com/images...   \n",
       "\n",
       "                                               title formatted_price  \n",
       "0  Minions Como Superheroes Ironman Long Sleeve R...            None  \n",
       "1                      FIG Clothing Womens Izo Tunic            None  \n",
       "2                        FIG Clothing Womens Won Top            None  \n",
       "3  Focal18 Sailor Collar Bubble Sleeve Blouse Shi...            None  \n",
       "4  Featherlite Ladies' Long Sleeve Stain Resistan...          $26.26  "
      ]
     },
     "execution_count": 7,
     "metadata": {},
     "output_type": "execute_result"
    }
   ],
   "source": [
    "print ('Number of data points : ', data.shape[0], \\\n",
    "'Number of features:', data.shape[1])\n",
    "data.head() # prints the top rows in the table."
   ]
  },
  {
   "cell_type": "markdown",
   "metadata": {},
   "source": [
    "## 1. Analysis of Missing Data "
   ]
  },
  {
   "cell_type": "markdown",
   "metadata": {},
   "source": [
    "###### 1.1  Basic stats for the feature: product_type_name"
   ]
  },
  {
   "cell_type": "code",
   "execution_count": 8,
   "metadata": {},
   "outputs": [
    {
     "name": "stdout",
     "output_type": "stream",
     "text": [
      "count     183138\n",
      "unique        72\n",
      "top        SHIRT\n",
      "freq      167794\n",
      "Name: product_type_name, dtype: object\n"
     ]
    }
   ],
   "source": [
    "print(data['product_type_name'].describe())\n"
   ]
  },
  {
   "cell_type": "markdown",
   "metadata": {},
   "source": [
    "We have total 72 unique type of product_type_names.\n",
    "\n",
    "91.62% (167794/183138) of the products are shirts."
   ]
  },
  {
   "cell_type": "code",
   "execution_count": 9,
   "metadata": {},
   "outputs": [
    {
     "name": "stdout",
     "output_type": "stream",
     "text": [
      "['SHIRT' 'SWEATER' 'APPAREL' 'OUTDOOR_RECREATION_PRODUCT'\n",
      " 'BOOKS_1973_AND_LATER' 'PANTS' 'HAT' 'SPORTING_GOODS' 'DRESS' 'UNDERWEAR'\n",
      " 'SKIRT' 'OUTERWEAR' 'BRA' 'ACCESSORY' 'ART_SUPPLIES' 'SLEEPWEAR'\n",
      " 'ORCA_SHIRT' 'HANDBAG' 'PET_SUPPLIES' 'SHOES' 'KITCHEN' 'ADULT_COSTUME'\n",
      " 'HOME_BED_AND_BATH' 'MISC_OTHER' 'BLAZER' 'HEALTH_PERSONAL_CARE'\n",
      " 'TOYS_AND_GAMES' 'SWIMWEAR' 'CONSUMER_ELECTRONICS' 'SHORTS' 'HOME'\n",
      " 'AUTO_PART' 'OFFICE_PRODUCTS' 'ETHNIC_WEAR' 'BEAUTY'\n",
      " 'INSTRUMENT_PARTS_AND_ACCESSORIES' 'POWERSPORTS_PROTECTIVE_GEAR' 'SHIRTS'\n",
      " 'ABIS_APPAREL' 'AUTO_ACCESSORY' 'NONAPPARELMISC' 'TOOLS' 'BABY_PRODUCT'\n",
      " 'SOCKSHOSIERY' 'POWERSPORTS_RIDING_SHIRT' 'EYEWEAR' 'SUIT'\n",
      " 'OUTDOOR_LIVING' 'POWERSPORTS_RIDING_JACKET' 'HARDWARE' 'SAFETY_SUPPLY'\n",
      " 'ABIS_DVD' 'VIDEO_DVD' 'GOLF_CLUB' 'MUSIC_POPULAR_VINYL'\n",
      " 'HOME_FURNITURE_AND_DECOR' 'TABLET_COMPUTER' 'GUILD_ACCESSORIES'\n",
      " 'ABIS_SPORTS' 'ART_AND_CRAFT_SUPPLY' 'BAG' 'MECHANICAL_COMPONENTS'\n",
      " 'SOUND_AND_RECORDING_EQUIPMENT' 'COMPUTER_COMPONENT' 'JEWELRY'\n",
      " 'BUILDING_MATERIAL' 'LUGGAGE' 'BABY_COSTUME' 'POWERSPORTS_VEHICLE_PART'\n",
      " 'PROFESSIONAL_HEALTHCARE' 'SEEDS_AND_PLANTS' 'WIRELESS_ACCESSORY']\n"
     ]
    }
   ],
   "source": [
    "print(data['product_type_name'].unique())"
   ]
  },
  {
   "cell_type": "code",
   "execution_count": 10,
   "metadata": {},
   "outputs": [
    {
     "data": {
      "text/plain": [
       "[('SHIRT', 167794),\n",
       " ('APPAREL', 3549),\n",
       " ('BOOKS_1973_AND_LATER', 3336),\n",
       " ('DRESS', 1584),\n",
       " ('SPORTING_GOODS', 1281),\n",
       " ('SWEATER', 837),\n",
       " ('OUTERWEAR', 796),\n",
       " ('OUTDOOR_RECREATION_PRODUCT', 729),\n",
       " ('ACCESSORY', 636),\n",
       " ('UNDERWEAR', 425)]"
      ]
     },
     "execution_count": 10,
     "metadata": {},
     "output_type": "execute_result"
    }
   ],
   "source": [
    "# find the 10 most frequent product_type_names.\n",
    "product_type_count = Counter(list(data['product_type_name']))\n",
    "product_type_count.most_common(10)"
   ]
  },
  {
   "cell_type": "markdown",
   "metadata": {},
   "source": [
    "###### 1.2  Basic stats for the feature: brand"
   ]
  },
  {
   "cell_type": "code",
   "execution_count": 11,
   "metadata": {},
   "outputs": [
    {
     "name": "stdout",
     "output_type": "stream",
     "text": [
      "count     182987\n",
      "unique     10577\n",
      "top         Zago\n",
      "freq         223\n",
      "Name: brand, dtype: object\n"
     ]
    }
   ],
   "source": [
    "# there are 10577 unique brands\n",
    "print(data['brand'].describe())\n",
    "# 183138 - 182987 = 151 missing values."
   ]
  },
  {
   "cell_type": "code",
   "execution_count": 12,
   "metadata": {},
   "outputs": [
    {
     "data": {
      "text/plain": [
       "[('Zago', 223),\n",
       " ('XQS', 222),\n",
       " ('Yayun', 215),\n",
       " ('YUNY', 198),\n",
       " ('XiaoTianXin-women clothes', 193),\n",
       " ('Generic', 192),\n",
       " ('Boohoo', 190),\n",
       " ('Alion', 188),\n",
       " ('Abetteric', 187),\n",
       " ('TheMogan', 187)]"
      ]
     },
     "execution_count": 12,
     "metadata": {},
     "output_type": "execute_result"
    }
   ],
   "source": [
    "brand_count = Counter(list(data['brand']))\n",
    "brand_count.most_common(10)"
   ]
  },
  {
   "cell_type": "markdown",
   "metadata": {},
   "source": [
    "##### 1.2  Basic stats for the feature: Color"
   ]
  },
  {
   "cell_type": "code",
   "execution_count": 13,
   "metadata": {},
   "outputs": [
    {
     "name": "stdout",
     "output_type": "stream",
     "text": [
      "count     64956\n",
      "unique     7380\n",
      "top       Black\n",
      "freq      13207\n",
      "Name: color, dtype: object\n"
     ]
    }
   ],
   "source": [
    "print(data['color'].describe())\n",
    "# we have 7380 unique colors\n",
    "# 7.2% of products are black in color\n",
    "# 64956 of 183138 products have brand information. That's approx 35.4%."
   ]
  },
  {
   "cell_type": "code",
   "execution_count": 14,
   "metadata": {},
   "outputs": [
    {
     "data": {
      "text/plain": [
       "[(None, 118182),\n",
       " ('Black', 13207),\n",
       " ('White', 8616),\n",
       " ('Blue', 3570),\n",
       " ('Red', 2289),\n",
       " ('Pink', 1842),\n",
       " ('Grey', 1499),\n",
       " ('*', 1388),\n",
       " ('Green', 1258),\n",
       " ('Multi', 1203)]"
      ]
     },
     "execution_count": 14,
     "metadata": {},
     "output_type": "execute_result"
    }
   ],
   "source": [
    "color_count = Counter(list(data['color']))\n",
    "color_count.most_common(10)"
   ]
  },
  {
   "cell_type": "markdown",
   "metadata": {},
   "source": [
    "##### 1.3 Basic stats for the feature: formatted_price"
   ]
  },
  {
   "cell_type": "code",
   "execution_count": 15,
   "metadata": {},
   "outputs": [
    {
     "name": "stdout",
     "output_type": "stream",
     "text": [
      "count      28395\n",
      "unique      3135\n",
      "top       $19.99\n",
      "freq         945\n",
      "Name: formatted_price, dtype: object\n"
     ]
    }
   ],
   "source": [
    "print(data['formatted_price'].describe())\n",
    "# Only 28,395 (15.5% of whole data) products with price information"
   ]
  },
  {
   "cell_type": "code",
   "execution_count": 16,
   "metadata": {},
   "outputs": [
    {
     "data": {
      "text/plain": [
       "[(None, 154743),\n",
       " ('$19.99', 945),\n",
       " ('$9.99', 749),\n",
       " ('$9.50', 601),\n",
       " ('$14.99', 472),\n",
       " ('$7.50', 463),\n",
       " ('$24.99', 414),\n",
       " ('$29.99', 370),\n",
       " ('$8.99', 343),\n",
       " ('$9.01', 336)]"
      ]
     },
     "execution_count": 16,
     "metadata": {},
     "output_type": "execute_result"
    }
   ],
   "source": [
    "price_count = Counter(list(data['formatted_price']))\n",
    "price_count.most_common(10)"
   ]
  },
  {
   "cell_type": "markdown",
   "metadata": {},
   "source": [
    "###### 1.3 Basic stats for the feature: title"
   ]
  },
  {
   "cell_type": "code",
   "execution_count": 17,
   "metadata": {},
   "outputs": [
    {
     "name": "stdout",
     "output_type": "stream",
     "text": [
      "count                                                183138\n",
      "unique                                               175985\n",
      "top       Nakoda Cotton Self Print Straight Kurti For Women\n",
      "freq                                                     77\n",
      "Name: title, dtype: object\n"
     ]
    }
   ],
   "source": [
    "print(data['title'].describe())\n",
    "# All of the products have a title.\n",
    "# Titles are fairly descriptive of what the product is."
   ]
  }
 ],
 "metadata": {
  "kernelspec": {
   "display_name": "Python 3",
   "language": "python",
   "name": "python3"
  },
  "language_info": {
   "codemirror_mode": {
    "name": "ipython",
    "version": 3
   },
   "file_extension": ".py",
   "mimetype": "text/x-python",
   "name": "python",
   "nbconvert_exporter": "python",
   "pygments_lexer": "ipython3",
   "version": "3.7.2"
  }
 },
 "nbformat": 4,
 "nbformat_minor": 4
}
