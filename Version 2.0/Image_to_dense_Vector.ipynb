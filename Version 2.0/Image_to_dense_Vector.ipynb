{
 "cells": [
  {
   "cell_type": "code",
   "execution_count": 1,
   "metadata": {
    "colab": {
     "base_uri": "https://localhost:8080/",
     "height": 35
    },
    "colab_type": "code",
    "executionInfo": {
     "elapsed": 4310,
     "status": "ok",
     "timestamp": 1594397204838,
     "user": {
      "displayName": "Karan gupta",
      "photoUrl": "",
      "userId": "05562217116657610639"
     },
     "user_tz": -330
    },
    "id": "H24WgF8GE2CF",
    "outputId": "508a5ff2-16c6-425d-fbda-a7900f3acec9"
   },
   "outputs": [
    {
     "name": "stdout",
     "output_type": "stream",
     "text": [
      "Requirement already satisfied: pyprind in /usr/local/lib/python3.6/dist-packages (2.11.2)\n"
     ]
    }
   ],
   "source": [
    "!pip install pyprind"
   ]
  },
  {
   "cell_type": "code",
   "execution_count": 2,
   "metadata": {
    "colab": {
     "base_uri": "https://localhost:8080/",
     "height": 35
    },
    "colab_type": "code",
    "executionInfo": {
     "elapsed": 6685,
     "status": "ok",
     "timestamp": 1594397207241,
     "user": {
      "displayName": "Karan gupta",
      "photoUrl": "",
      "userId": "05562217116657610639"
     },
     "user_tz": -330
    },
    "id": "KJ-6AVHn89ey",
    "outputId": "a8233b19-aaa5-4079-e260-9f0e51eec00f"
   },
   "outputs": [
    {
     "name": "stderr",
     "output_type": "stream",
     "text": [
      "Using TensorFlow backend.\n"
     ]
    }
   ],
   "source": [
    "from PIL import Image\n",
    "import itertools\n",
    "import numpy as np\n",
    "import pandas as pd\n",
    "import warnings\n",
    "import nltk\n",
    "import math\n",
    "import time\n",
    "import re\n",
    "import os\n",
    "import pickle\n",
    "import pyprind\n",
    "#Deep-Learning Library\n",
    "from keras.preprocessing.image import ImageDataGenerator\n",
    "from keras.models import Sequential\n",
    "from keras.layers import Dropout, Flatten, Dense\n",
    "from keras import applications\n",
    "from keras.preprocessing.image import load_img,img_to_array\n",
    "from keras import backend as k\n",
    "from keras.applications.vgg16 import preprocess_input"
   ]
  },
  {
   "cell_type": "code",
   "execution_count": 3,
   "metadata": {
    "colab": {
     "base_uri": "https://localhost:8080/",
     "height": 35
    },
    "colab_type": "code",
    "executionInfo": {
     "elapsed": 6661,
     "status": "ok",
     "timestamp": 1594397207243,
     "user": {
      "displayName": "Karan gupta",
      "photoUrl": "",
      "userId": "05562217116657610639"
     },
     "user_tz": -330
    },
    "id": "OIuaXqKk9AS5",
    "outputId": "1c30702f-369d-42f6-b13c-d83f9b63a212"
   },
   "outputs": [
    {
     "name": "stdout",
     "output_type": "stream",
     "text": [
      "Drive already mounted at /content/drive; to attempt to forcibly remount, call drive.mount(\"/content/drive\", force_remount=True).\n"
     ]
    }
   ],
   "source": [
    "from google.colab import drive \n",
    "drive.mount('/content/drive')"
   ]
  },
  {
   "cell_type": "code",
   "execution_count": 4,
   "metadata": {
    "colab": {},
    "colab_type": "code",
    "executionInfo": {
     "elapsed": 6645,
     "status": "ok",
     "timestamp": 1594397207245,
     "user": {
      "displayName": "Karan gupta",
      "photoUrl": "",
      "userId": "05562217116657610639"
     },
     "user_tz": -330
    },
    "id": "Vo5-W3PX9AVi"
   },
   "outputs": [],
   "source": [
    "path=\"/content/drive/My Drive/Colab Notebooks/41k_images/\"\n",
    "\n",
    "data_cnn_vgg16=path+\"41k_image_feature.npy\"\n",
    "data_filenames_vgg16=path+\"41k_image_asins.npy\""
   ]
  },
  {
   "cell_type": "code",
   "execution_count": 5,
   "metadata": {
    "colab": {},
    "colab_type": "code",
    "executionInfo": {
     "elapsed": 6633,
     "status": "ok",
     "timestamp": 1594397207247,
     "user": {
      "displayName": "Karan gupta",
      "photoUrl": "",
      "userId": "05562217116657610639"
     },
     "user_tz": -330
    },
    "id": "hXeYv6F59AYq"
   },
   "outputs": [],
   "source": [
    "# Start Clock for time tracking\n",
    "start_time = time.clock() \n",
    "# dimensions of our images.\n",
    "img_width, img_height = 299, 299\n",
    "epochs = 50\n",
    "batch_size = 1\n",
    "#print(\"Started\")"
   ]
  },
  {
   "cell_type": "code",
   "execution_count": 6,
   "metadata": {
    "colab": {
     "base_uri": "https://localhost:8080/",
     "height": 272
    },
    "colab_type": "code",
    "executionInfo": {
     "elapsed": 21058727,
     "status": "ok",
     "timestamp": 1594418259364,
     "user": {
      "displayName": "Karan gupta",
      "photoUrl": "",
      "userId": "05562217116657610639"
     },
     "user_tz": -330
    },
    "id": "xt-9Txz-9Aby",
    "outputId": "f2fa4a16-6d95-4b67-d7b4-d67a95e2c385"
   },
   "outputs": [
    {
     "name": "stdout",
     "output_type": "stream",
     "text": [
      "Started\n",
      "asins and datagen done\n",
      "Model settled\n",
      "Found 41022 images belonging to 1 classes.\n",
      "Genrator work finish\n"
     ]
    },
    {
     "name": "stderr",
     "output_type": "stream",
     "text": [
      "0% [##############################] 100% | ETA: 00:00:00\n",
      "Total time elapsed: 05:49:48\n"
     ]
    },
    {
     "name": "stdout",
     "output_type": "stream",
     "text": [
      "410\n",
      "40612\n",
      "(40612, 25088)\n",
      "For loop ended\n",
      "<keras.preprocessing.image.DirectoryIterator object at 0x7f7de4042e48>\n",
      "npy file saved\n",
      "40454.357902 seconds\n"
     ]
    }
   ],
   "source": [
    "# The Below Function Genrates and Return Numpy 2-D Array for Training Images\n",
    "# dimensions of our images.\n",
    "img_width, img_height = 224, 224\n",
    "\n",
    "top_model_weights_path = 'bottleneck_fc_model.h5'\n",
    "#train_data_dir = \n",
    "nb_train_samples = 41022\n",
    "epochs = 50\n",
    "batch_size = 1\n",
    "image_size = (224, 224)\n",
    "print(\"Started\")\n",
    "\n",
    "def save_bottlebeck_features():\n",
    "    \n",
    "    #Function to compute VGG-16 CNN for image feature extraction.\n",
    "        \n",
    "    asins = []\n",
    "    features=[]\n",
    "    datagen = ImageDataGenerator(rescale=1. / 255)\n",
    "    print(\"asins and datagen done\")                                                \n",
    "    # build the VGG16 network\n",
    "    model = applications.VGG16(include_top=False, weights='imagenet')\n",
    "    print(\"Model settled\")\n",
    "    generator = datagen.flow_from_directory(\n",
    "        path,\n",
    "        target_size=(img_width, img_height),\n",
    "        batch_size=batch_size,\n",
    "        class_mode=None,\n",
    "        shuffle=False)\n",
    "    print(\"Genrator work finish\")\n",
    "    j=0\n",
    "    bar=pyprind.ProgBar(41022)\n",
    "    for i in generator.filenames:\n",
    "\n",
    "        image_path=path+i\n",
    "        try:\n",
    "          img = load_img(image_path, target_size=image_size)\n",
    "          asins.append(i[14:24])\n",
    "          x = img_to_array(img)\n",
    "          x = np.expand_dims(x, axis=0)\n",
    "          x = preprocess_input(x)\n",
    "          feature = model.predict(x)\n",
    "          flat = feature.flatten()\n",
    "          features.append(flat)\n",
    "        except: \n",
    "          j+=1\n",
    "        bar.update()\n",
    "    print(j)\n",
    "    print(len(asins))\n",
    "    #print(asins)\n",
    "    features=np.array(features)\n",
    "    print(features.shape)\n",
    "\n",
    "    print(\"For loop ended\")\n",
    "    print(generator)\n",
    "    #print(\"training start\")\n",
    "    \"\"\"\n",
    "    bottleneck_features_train = model.predict_generator(generator, nb_train_samples // batch_size)\n",
    "    print(\"training finised\")\"\"\"\n",
    "\n",
    "    #print(\"reshape the trained vector\")\n",
    "    #bottleneck_features_train = bottleneck_features_train.reshape((41022,25088))\n",
    "    #print(\"Trainning done\")\n",
    "    np.save(open(data_cnn_vgg16, 'wb'), features)\n",
    "    np.save(open(data_filenames_vgg16, 'wb'), np.array(asins))\n",
    "    print(\"npy file saved\")\n",
    "  \n",
    "save_bottlebeck_features()\n",
    "\n",
    "print(time.clock() - start_time, \"seconds\")\n"
   ]
  },
  {
   "cell_type": "code",
   "execution_count": 6,
   "metadata": {
    "colab": {},
    "colab_type": "code",
    "executionInfo": {
     "elapsed": 21058625,
     "status": "ok",
     "timestamp": 1594418259369,
     "user": {
      "displayName": "Karan gupta",
      "photoUrl": "",
      "userId": "05562217116657610639"
     },
     "user_tz": -330
    },
    "id": "bUd7OBKy9AyY"
   },
   "outputs": [],
   "source": []
  },
  {
   "cell_type": "code",
   "execution_count": 6,
   "metadata": {
    "colab": {},
    "colab_type": "code",
    "executionInfo": {
     "elapsed": 21058614,
     "status": "ok",
     "timestamp": 1594418259371,
     "user": {
      "displayName": "Karan gupta",
      "photoUrl": "",
      "userId": "05562217116657610639"
     },
     "user_tz": -330
    },
    "id": "XI6xIggD9A1B"
   },
   "outputs": [],
   "source": []
  },
  {
   "cell_type": "code",
   "execution_count": null,
   "metadata": {
    "colab": {},
    "colab_type": "code",
    "id": "9rAn4P38IQ2c"
   },
   "outputs": [],
   "source": []
  },
  {
   "cell_type": "code",
   "execution_count": 6,
   "metadata": {
    "colab": {},
    "colab_type": "code",
    "executionInfo": {
     "elapsed": 21058602,
     "status": "ok",
     "timestamp": 1594418259372,
     "user": {
      "displayName": "Karan gupta",
      "photoUrl": "",
      "userId": "05562217116657610639"
     },
     "user_tz": -330
    },
    "id": "yy7mEa2v9A4E"
   },
   "outputs": [],
   "source": []
  },
  {
   "cell_type": "code",
   "execution_count": 6,
   "metadata": {
    "colab": {},
    "colab_type": "code",
    "executionInfo": {
     "elapsed": 21058590,
     "status": "ok",
     "timestamp": 1594418259373,
     "user": {
      "displayName": "Karan gupta",
      "photoUrl": "",
      "userId": "05562217116657610639"
     },
     "user_tz": -330
    },
    "id": "LsmGLt-H9A6v"
   },
   "outputs": [],
   "source": []
  },
  {
   "cell_type": "code",
   "execution_count": 6,
   "metadata": {
    "colab": {},
    "colab_type": "code",
    "executionInfo": {
     "elapsed": 21058579,
     "status": "ok",
     "timestamp": 1594418259374,
     "user": {
      "displayName": "Karan gupta",
      "photoUrl": "",
      "userId": "05562217116657610639"
     },
     "user_tz": -330
    },
    "id": "2TuN7ieg9A_q"
   },
   "outputs": [],
   "source": []
  }
 ],
 "metadata": {
  "colab": {
   "authorship_tag": "ABX9TyOy6fndg+6jAQwbB5ZmZVA5",
   "name": "Image_to_dense_Vector.ipynb",
   "provenance": []
  },
  "kernelspec": {
   "display_name": "Python 3",
   "language": "python",
   "name": "python3"
  },
  "language_info": {
   "codemirror_mode": {
    "name": "ipython",
    "version": 3
   },
   "file_extension": ".py",
   "mimetype": "text/x-python",
   "name": "python",
   "nbconvert_exporter": "python",
   "pygments_lexer": "ipython3",
   "version": "3.7.2"
  }
 },
 "nbformat": 4,
 "nbformat_minor": 4
}
